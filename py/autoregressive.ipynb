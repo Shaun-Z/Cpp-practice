{
 "cells": [
  {
   "cell_type": "code",
   "execution_count": 1,
   "id": "5a92e75e",
   "metadata": {},
   "outputs": [],
   "source": [
    "import torch\n",
    "import torch.nn as nn\n",
    "\n",
    "from labml import experiment\n",
    "from labml.configs import option\n",
    "from labml_nn.transformers.basic.autoregressive_experiment import Configs"
   ]
  },
  {
   "cell_type": "code",
   "execution_count": 2,
   "id": "0dbfca9a",
   "metadata": {},
   "outputs": [
    {
     "data": {
      "text/html": [
       "<pre style=\"overflow-x: scroll;\"><span style=\"color: #C5C1B4\"></span>\n",
       "<span style=\"color: #C5C1B4\">--------------------------------------------------</span><span style=\"color: #DDB62B\"><strong><span style=\"text-decoration: underline\"></span></strong></span>\n",
       "<span style=\"color: #DDB62B\"><strong><span style=\"text-decoration: underline\">LABML WARNING</span></strong></span>\n",
       "<span style=\"color: #DDB62B\"><strong><span style=\"text-decoration: underline\"></span></strong></span>Not a valid git repository: <strong>/Users/xiangyuzhou/Documents/GitRepo/Practice/py</strong><span style=\"color: #C5C1B4\"></span>\n",
       "<span style=\"color: #C5C1B4\">--------------------------------------------------</span></pre>"
      ],
      "text/plain": [
       "<IPython.core.display.HTML object>"
      ]
     },
     "metadata": {},
     "output_type": "display_data"
    }
   ],
   "source": [
    "experiment.create(name=\"transformer\", writers={'screen'})"
   ]
  },
  {
   "cell_type": "code",
   "execution_count": 3,
   "id": "46190c65",
   "metadata": {},
   "outputs": [],
   "source": [
    "conf = Configs()"
   ]
  },
  {
   "cell_type": "code",
   "execution_count": 4,
   "id": "26caeadf",
   "metadata": {},
   "outputs": [
    {
     "data": {
      "text/html": [
       "<pre style=\"overflow-x: scroll;\"></pre>"
      ],
      "text/plain": [
       "<IPython.core.display.HTML object>"
      ]
     },
     "metadata": {},
     "output_type": "display_data"
    }
   ],
   "source": [
    "experiment.configs(conf, {\n",
    "    # Use character level tokenizer\n",
    "    'tokenizer': 'character',\n",
    "    # Prompt separator is blank\n",
    "    'prompt_separator': '',\n",
    "    # Starting prompt for sampling\n",
    "    'prompt': 'It is ',\n",
    "    # Use Tiny Shakespeare dataset\n",
    "    'text': 'tiny_shakespeare',\n",
    "\n",
    "    # Use a context size of $256$\n",
    "    'seq_len': 512,\n",
    "    # Train for 32 epochs\n",
    "    'epochs': 32,\n",
    "    # Batch size $32$\n",
    "    'batch_size': 16,\n",
    "    # Switch between training and validation for $10$ times\n",
    "    # per epoch\n",
    "    'inner_iterations': 10,\n",
    "\n",
    "    # Model size\n",
    "    'd_model': 256,\n",
    "    'transformer.n_heads': 16,\n",
    "    'transformer.ffn.d_ff': 1024,\n",
    "\n",
    "    # Use [Noam optimizer](../../optimizers/noam.html)\n",
    "    'optimizer.optimizer': 'Noam',\n",
    "    'optimizer.learning_rate': 1.,\n",
    "})"
   ]
  },
  {
   "cell_type": "code",
   "execution_count": 5,
   "id": "87911ee7",
   "metadata": {},
   "outputs": [
    {
     "ename": "AttributeError",
     "evalue": "module 'labml.experiment' has no attribute 'add_pytorch_models'",
     "output_type": "error",
     "traceback": [
      "\u001b[0;31m---------------------------------------------------------------------------\u001b[0m",
      "\u001b[0;31mAttributeError\u001b[0m                            Traceback (most recent call last)",
      "\u001b[0;32m/var/folders/5j/9hckvs5s4rb5rlng38v52c_80000gn/T/ipykernel_35536/3059489062.py\u001b[0m in \u001b[0;36m<cell line: 0>\u001b[0;34m()\u001b[0m\n\u001b[0;32m----> 1\u001b[0;31m \u001b[0mexperiment\u001b[0m\u001b[0;34m.\u001b[0m\u001b[0madd_pytorch_models\u001b[0m\u001b[0;34m(\u001b[0m\u001b[0;34m{\u001b[0m\u001b[0;34m'model'\u001b[0m\u001b[0;34m:\u001b[0m \u001b[0mconf\u001b[0m\u001b[0;34m.\u001b[0m\u001b[0mmodel\u001b[0m\u001b[0;34m}\u001b[0m\u001b[0;34m)\u001b[0m\u001b[0;34m\u001b[0m\u001b[0;34m\u001b[0m\u001b[0m\n\u001b[0m",
      "\u001b[0;31mAttributeError\u001b[0m: module 'labml.experiment' has no attribute 'add_pytorch_models'"
     ]
    }
   ],
   "source": [
    "experiment.add_pytorch_models({'model': conf.model})"
   ]
  },
  {
   "cell_type": "code",
   "execution_count": null,
   "id": "799891fc",
   "metadata": {},
   "outputs": [],
   "source": [
    "with experiment.start():\n",
    "    conf.run()"
   ]
  }
 ],
 "metadata": {
  "kernelspec": {
   "display_name": "PyTc",
   "language": "python",
   "name": "python3"
  },
  "language_info": {
   "codemirror_mode": {
    "name": "ipython",
    "version": 3
   },
   "file_extension": ".py",
   "mimetype": "text/x-python",
   "name": "python",
   "nbconvert_exporter": "python",
   "pygments_lexer": "ipython3",
   "version": "3.12.11"
  }
 },
 "nbformat": 4,
 "nbformat_minor": 5
}
