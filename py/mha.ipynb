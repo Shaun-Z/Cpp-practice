{
 "cells": [
  {
   "cell_type": "code",
   "execution_count": 1,
   "id": "ea83f658",
   "metadata": {},
   "outputs": [],
   "source": [
    "import math\n",
    "from typing import Optional, List\n",
    "\n",
    "import torch\n",
    "from torch import nn\n",
    "\n",
    "from labml import tracker"
   ]
  },
  {
   "cell_type": "code",
   "execution_count": 2,
   "id": "2b6c6f78",
   "metadata": {},
   "outputs": [],
   "source": [
    "class PrepareForMultiHeadAttention(nn.Module):\n",
    "    '''\n",
    "    Prepares the input for multi-head attention by reshaping it.\n",
    "    This module reshapes the input tensor to have an additional dimension for the number of heads.\n",
    "    \n",
    "    Args:\n",
    "    - d_model (int): The dimension of the model.\n",
    "    - n_heads (int): The number of attention heads.\n",
    "    - d_heads (int): The dimension of each head.\n",
    "    - bias (bool): Whether to include a bias term in the linear transformation.\n",
    "    '''\n",
    "    def __init__(self, d_model: int, n_heads: int, d_heads: int, bias: bool):\n",
    "        super().__init__()\n",
    "        # Linear layer for linear transformation\n",
    "        self.linear = nn.Linear(d_model, n_heads * d_heads, bias=bias)\n",
    "        # Number of heads\n",
    "        self.n_heads = n_heads\n",
    "        # Dimension of each head\n",
    "        self.d_heads = d_heads\n",
    "        \n",
    "    def forward(self, x: torch.Tensor) -> torch.Tensor:\n",
    "        '''\n",
    "        Forward pass to reshape the input tensor for multi-head attention.\n",
    "        Args:\n",
    "        - x (torch.Tensor): Input tensor of shape (seq_len, batch_size, d_model) or (batch_size, d_model).\n",
    "        Returns:\n",
    "        - torch.Tensor: Reshaped tensor of shape (seq_len, batch_size, heads, d_heads) or (batch_size, heads, d_model).\n",
    "        '''\n",
    "\n",
    "        head_shape = x.shape[:-1]\n",
    "\n",
    "        # Apply linear transformation\n",
    "        x = self.linear(x)\n",
    "\n",
    "        # Reshape to (batch_size, seq_len, n_heads, d_heads)\n",
    "        x = x.view(*head_shape, self.n_heads, self.d_heads)\n",
    "\n",
    "        # Output has shape [seq_len, batch_size, heads, d_k] or [batch_size, heads, d_model]\n",
    "        return x "
   ]
  },
  {
   "cell_type": "code",
   "execution_count": 3,
   "id": "850be4cf",
   "metadata": {},
   "outputs": [
    {
     "name": "stdout",
     "output_type": "stream",
     "text": [
      "torch.Size([10, 20, 8, 64])\n"
     ]
    }
   ],
   "source": [
    "x = torch.randn(10, 20, 512)  # Example input tensor\n",
    "prepare = PrepareForMultiHeadAttention(d_model=512, n_heads=8, d_heads=64, bias=True)\n",
    "output = prepare(x)\n",
    "print(output.shape)  # Should print: torch.Size([10, 20, 8, 64])"
   ]
  },
  {
   "cell_type": "code",
   "execution_count": 4,
   "id": "3bc2f704",
   "metadata": {},
   "outputs": [],
   "source": [
    "class MultiHeadAttention(nn.Module):\n",
    "    def __init__(self, n_heads: int, d_model: int, dropout_prob: float = 0.1, bias: bool = True):\n",
    "        super().__init__()\n",
    "        # Number of features per head\n",
    "        self.n_features = d_model // n_heads\n",
    "        # Number of attention heads\n",
    "        self.n_heads = n_heads\n",
    "        # Prepare the query, key, and value transformations\n",
    "        self.query = PrepareForMultiHeadAttention(d_model, n_heads, self.n_features, bias)\n",
    "        self.key = PrepareForMultiHeadAttention(d_model, n_heads, self.n_features, bias)\n",
    "        self.value = PrepareForMultiHeadAttention(d_model, n_heads, self.n_features, bias=True)\n",
    "\n",
    "        self.softmax = nn.Softmax(dim=-1)\n",
    "        self.output = nn.Linear(d_model, d_model)\n",
    "        self.dropout = nn.Dropout(dropout_prob)\n",
    "        self.scale = 1 / math.sqrt(self.n_features)\n",
    "\n",
    "        self.attn = None\n",
    "\n",
    "    def get_scores(self, query: torch.Tensor, key: torch.Tensor) -> torch.Tensor:\n",
    "        '''\n",
    "        Compute the attention scores.\n",
    "        Args:\n",
    "        - query (torch.Tensor): Query tensor of shape (seq_len_q, batch_size, n_heads, d_model).\n",
    "        - key (torch.Tensor): Key tensor of shape (seq_len_k, batch_size, n_heads, d_model).\n",
    "        Returns:\n",
    "        - torch.Tensor: Attention scores of shape (seq_len_q, batch_size, n_heads, seq_len_k).\n",
    "        '''\n",
    "        return torch.einsum('ibhd,jbhd->ibhj', query, key)\n",
    "    \n",
    "    def prepare_mask(self, mask: torch.Tensor, query_shape: List[int], key_shape: List[int]) -> torch.Tensor:\n",
    "        \n",
    "        assert mask.shape[0] == 1 or mask.shape[0] == query_shape[0]\n",
    "        assert mask.shape[1] == key_shape[0]\n",
    "        assert mask.shape[2] == 1 or mask.shape[2] == query_shape[1]\n",
    "\n",
    "        mask = mask.unsqueeze(-1)\n",
    "\n",
    "        return mask\n",
    "    \n",
    "    def forward(self, *, query:torch.Tensor, key: torch.Tensor, value: torch.Tensor, mask: Optional[torch.Tensor] = None) -> torch.Tensor:\n",
    "        seq_len, batch_size, _ = query.shape\n",
    "    \n",
    "        if mask is not None:\n",
    "            mask = self.prepare_mask(mask, query.shape, key.shape)\n",
    "        \n",
    "        # Reshape query, key, and value for multi-head attention (seq_len, batch_size, n_heads, d_model)\n",
    "        query = self.query(query)\n",
    "        key = self.key(key)\n",
    "        value = self.value(value)\n",
    "\n",
    "        scores = self.get_scores(query, key) * self.scale\n",
    "\n",
    "        if mask is not None:\n",
    "            scores = scores.masked_fill(mask == 0, float('-inf'))\n",
    "\n",
    "        attn = self.softmax(scores)\n",
    "\n",
    "        tracker.add('attn', attn)\n",
    "\n",
    "        attn = self.dropout(attn)\n",
    "\n",
    "        x = torch.einsum('ijbh, jbhd->ibhd', attn, value)\n",
    "\n",
    "        self.attn = attn.detach()\n",
    "\n",
    "        x = x.reshape(seq_len, batch_size, -1)\n",
    "\n",
    "        return self.output(x)\n"
   ]
  },
  {
   "cell_type": "code",
   "execution_count": 5,
   "id": "d8d6810a",
   "metadata": {},
   "outputs": [
    {
     "data": {
      "text/plain": [
       "MultiHeadAttention(\n",
       "  (query): PrepareForMultiHeadAttention(\n",
       "    (linear): Linear(in_features=512, out_features=512, bias=True)\n",
       "  )\n",
       "  (key): PrepareForMultiHeadAttention(\n",
       "    (linear): Linear(in_features=512, out_features=512, bias=True)\n",
       "  )\n",
       "  (value): PrepareForMultiHeadAttention(\n",
       "    (linear): Linear(in_features=512, out_features=512, bias=True)\n",
       "  )\n",
       "  (softmax): Softmax(dim=-1)\n",
       "  (output): Linear(in_features=512, out_features=512, bias=True)\n",
       "  (dropout): Dropout(p=0.1, inplace=False)\n",
       ")"
      ]
     },
     "execution_count": 5,
     "metadata": {},
     "output_type": "execute_result"
    }
   ],
   "source": [
    "mha = MultiHeadAttention(n_heads=8, d_model=512, dropout_prob=0.1, bias=True)\n",
    "mha"
   ]
  }
 ],
 "metadata": {
  "kernelspec": {
   "display_name": "PyTc",
   "language": "python",
   "name": "python3"
  },
  "language_info": {
   "codemirror_mode": {
    "name": "ipython",
    "version": 3
   },
   "file_extension": ".py",
   "mimetype": "text/x-python",
   "name": "python",
   "nbconvert_exporter": "python",
   "pygments_lexer": "ipython3",
   "version": "3.12.9"
  }
 },
 "nbformat": 4,
 "nbformat_minor": 5
}
